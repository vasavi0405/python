{
 "cells": [
  {
   "cell_type": "code",
   "execution_count": 13,
   "id": "125c445f",
   "metadata": {},
   "outputs": [
    {
     "name": "stdout",
     "output_type": "stream",
     "text": [
      "🔍 First few rows:\n",
      "         obj_ID       alpha      delta         u         g         r  \\\n",
      "0  1.237661e+18  135.689107  32.494632  23.87882  22.27530  20.39501   \n",
      "1  1.237665e+18  144.826101  31.274185  24.77759  22.83188  22.58444   \n",
      "2  1.237661e+18  142.188790  35.582444  25.26307  22.66389  20.60976   \n",
      "3  1.237663e+18  338.741038  -0.402828  22.13682  23.77656  21.61162   \n",
      "4  1.237680e+18  345.282593  21.183866  19.43718  17.58028  16.49747   \n",
      "\n",
      "          i         z  run_ID  rerun_ID  cam_col  field_ID   spec_obj_ID  \\\n",
      "0  19.16573  18.79371    3606       301        2        79  6.543777e+18   \n",
      "1  21.16812  21.61427    4518       301        5       119  1.176014e+19   \n",
      "2  19.34857  18.94827    3606       301        2       120  5.152200e+18   \n",
      "3  20.50454  19.25010    4192       301        3       214  1.030107e+19   \n",
      "4  15.97711  15.54461    8102       301        3       137  6.891865e+18   \n",
      "\n",
      "    class  redshift  plate    MJD  fiber_ID  \n",
      "0  GALAXY  0.634794   5812  56354       171  \n",
      "1  GALAXY  0.779136  10445  58158       427  \n",
      "2  GALAXY  0.644195   4576  55592       299  \n",
      "3  GALAXY  0.932346   9149  58039       775  \n",
      "4  GALAXY  0.116123   6121  56187       842  \n",
      "\n",
      "🧹 Missing values:\n",
      "obj_ID         0\n",
      "alpha          0\n",
      "delta          0\n",
      "u              0\n",
      "g              0\n",
      "r              0\n",
      "i              0\n",
      "z              0\n",
      "run_ID         0\n",
      "rerun_ID       0\n",
      "cam_col        0\n",
      "field_ID       0\n",
      "spec_obj_ID    0\n",
      "class          0\n",
      "redshift       0\n",
      "plate          0\n",
      "MJD            0\n",
      "fiber_ID       0\n",
      "dtype: int64\n",
      "\n",
      "📊 Summary statistics:\n",
      "             obj_ID          alpha          delta              u  \\\n",
      "count  1.000000e+05  100000.000000  100000.000000  100000.000000   \n",
      "mean   1.237665e+18     177.629117      24.135305      21.980468   \n",
      "std    8.438560e+12      96.502241      19.644665      31.769291   \n",
      "min    1.237646e+18       0.005528     -18.785328   -9999.000000   \n",
      "25%    1.237659e+18     127.518222       5.146771      20.352353   \n",
      "50%    1.237663e+18     180.900700      23.645922      22.179135   \n",
      "75%    1.237668e+18     233.895005      39.901550      23.687440   \n",
      "max    1.237681e+18     359.999810      83.000519      32.781390   \n",
      "\n",
      "                   g              r              i              z  \\\n",
      "count  100000.000000  100000.000000  100000.000000  100000.000000   \n",
      "mean       20.531387      19.645762      19.084854      18.668810   \n",
      "std        31.750292       1.854760       1.757895      31.728152   \n",
      "min     -9999.000000       9.822070       9.469903   -9999.000000   \n",
      "25%        18.965230      18.135828      17.732285      17.460677   \n",
      "50%        21.099835      20.125290      19.405145      19.004595   \n",
      "75%        22.123767      21.044785      20.396495      19.921120   \n",
      "max        31.602240      29.571860      32.141470      29.383740   \n",
      "\n",
      "              run_ID  rerun_ID        cam_col       field_ID   spec_obj_ID  \\\n",
      "count  100000.000000  100000.0  100000.000000  100000.000000  1.000000e+05   \n",
      "mean     4481.366060     301.0       3.511610     186.130520  5.783882e+18   \n",
      "std      1964.764593       0.0       1.586912     149.011073  3.324016e+18   \n",
      "min       109.000000     301.0       1.000000      11.000000  2.995191e+17   \n",
      "25%      3187.000000     301.0       2.000000      82.000000  2.844138e+18   \n",
      "50%      4188.000000     301.0       4.000000     146.000000  5.614883e+18   \n",
      "75%      5326.000000     301.0       5.000000     241.000000  8.332144e+18   \n",
      "max      8162.000000     301.0       6.000000     989.000000  1.412694e+19   \n",
      "\n",
      "            redshift          plate            MJD       fiber_ID  \n",
      "count  100000.000000  100000.000000  100000.000000  100000.000000  \n",
      "mean        0.576661    5137.009660   55588.647500     449.312740  \n",
      "std         0.730707    2952.303351    1808.484233     272.498404  \n",
      "min        -0.009971     266.000000   51608.000000       1.000000  \n",
      "25%         0.054517    2526.000000   54234.000000     221.000000  \n",
      "50%         0.424173    4987.000000   55868.500000     433.000000  \n",
      "75%         0.704154    7400.250000   56777.000000     645.000000  \n",
      "max         7.011245   12547.000000   58932.000000    1000.000000  \n",
      "\n",
      "🔭 Unique object classes:\n",
      "['GALAXY' 'QSO' 'STAR']\n"
     ]
    }
   ],
   "source": [
    "import pandas as pd\n",
    "\n",
    "# Load the dataset (replace 'stellar_data.csv' with your actual file name)\n",
    "df = pd.read_csv(r\"/Users/khushikailasam/star_classification.csv\")\n",
    "\n",
    "# Display the first few rows\n",
    "print(\"🔍 First few rows:\")\n",
    "print(df.head())\n",
    "\n",
    "# Check for missing values\n",
    "print(\"\\n🧹 Missing values:\")\n",
    "print(df.isnull().sum())\n",
    "\n",
    "# Convert scientific notation strings (if necessary)\n",
    "df['obj_ID'] = df['obj_ID'].astype(float)\n",
    "df['spec_obj_ID'] = df['spec_obj_ID'].astype(float)\n",
    "\n",
    "# Ensure numerical types for magnitude and coordinates\n",
    "mag_cols = ['u', 'g', 'r', 'i', 'z', 'alpha', 'delta', 'redshift']\n",
    "df[mag_cols] = df[mag_cols].apply(pd.to_numeric, errors='coerce')\n",
    "\n",
    "# Summary statistics\n",
    "print(\"\\n📊 Summary statistics:\")\n",
    "print(df.describe())\n",
    "\n",
    "# Unique classes\n",
    "print(\"\\n🔭 Unique object classes:\")\n",
    "print(df['class'].unique())\n",
    "\n",
    "# Optional: Save cleaned version\n",
    "df.to_csv('stellar_data_cleaned.csv', index=False)\n"
   ]
  },
  {
   "cell_type": "code",
   "execution_count": 14,
   "id": "b8980df9",
   "metadata": {},
   "outputs": [],
   "source": [
    "from sklearn.model_selection import train_test_split\n",
    "from sklearn.preprocessing import LabelEncoder\n",
    "\n",
    "# Drop non-feature columns (IDs etc.)\n",
    "drop_cols = ['obj_ID', 'spec_obj_ID', 'run_ID', 'rerun_ID', 'cam_col', 'field_ID', 'plate', 'MJD', 'fiber_ID']\n",
    "df_model = df.drop(columns=drop_cols)\n",
    "\n",
    "# Encode class labels\n",
    "le = LabelEncoder()\n",
    "df_model['class'] = le.fit_transform(df_model['class'])  # Maps 'GALAXY', 'STAR', 'QSO' to 0/1/2\n",
    "\n",
    "# Split features and target\n",
    "X = df_model.drop(columns=['class'])\n",
    "y = df_model['class']\n",
    "\n",
    "# Train-test split\n",
    "X_train, X_test, y_train, y_test = train_test_split(X, y, test_size=0.2, random_state=42)\n"
   ]
  },
  {
   "cell_type": "code",
   "execution_count": 15,
   "id": "c20d0321",
   "metadata": {},
   "outputs": [],
   "source": [
    "from sklearn.ensemble import RandomForestClassifier\n",
    "\n",
    "model = RandomForestClassifier(n_estimators=100, random_state=42)\n",
    "model.fit(X_train, y_train)\n",
    "\n",
    "# Predictions\n",
    "y_pred = model.predict(X_test)\n"
   ]
  },
  {
   "cell_type": "code",
   "execution_count": 16,
   "id": "aef6911b",
   "metadata": {},
   "outputs": [
    {
     "name": "stdout",
     "output_type": "stream",
     "text": [
      "✅ Accuracy: 0.9772\n",
      "\n",
      "📋 Classification Report:\n",
      "               precision    recall  f1-score   support\n",
      "\n",
      "      GALAXY       0.98      0.99      0.98     11860\n",
      "         QSO       0.96      0.92      0.94      3797\n",
      "        STAR       0.99      1.00      1.00      4343\n",
      "\n",
      "    accuracy                           0.98     20000\n",
      "   macro avg       0.98      0.97      0.97     20000\n",
      "weighted avg       0.98      0.98      0.98     20000\n",
      "\n"
     ]
    },
    {
     "name": "stderr",
     "output_type": "stream",
     "text": [
      "/Users/khushikailasam/Library/Python/3.9/lib/python/site-packages/IPython/core/pylabtools.py:152: UserWarning: Glyph 128269 (\\N{LEFT-POINTING MAGNIFYING GLASS}) missing from current font.\n",
      "  fig.canvas.print_figure(bytes_io, **kw)\n"
     ]
    },
    {
     "data": {
      "image/png": "[encoded data removed]",
      "text/plain": [
       "<Figure size 640x480 with 2 Axes>"
      ]
     },
     "metadata": {},
     "output_type": "display_data"
    }
   ],
   "source": [
    "from sklearn.metrics import accuracy_score, confusion_matrix, classification_report\n",
    "import seaborn as sns\n",
    "import matplotlib.pyplot as plt\n",
    "\n",
    "# Accuracy\n",
    "print(\"✅ Accuracy:\", accuracy_score(y_test, y_pred))\n",
    "\n",
    "# Classification Report\n",
    "print(\"\\n📋 Classification Report:\\n\", classification_report(y_test, y_pred, target_names=le.classes_))\n",
    "\n",
    "# Confusion Matrix\n",
    "cm = confusion_matrix(y_test, y_pred)\n",
    "sns.heatmap(cm, annot=True, fmt='d', cmap='Blues', xticklabels=le.classes_, yticklabels=le.classes_)\n",
    "plt.xlabel(\"Predicted\")\n",
    "plt.ylabel(\"Actual\")\n",
    "plt.title(\"🔍 Confusion Matrix\")\n",
    "plt.show()\n"
   ]
  },
  {
   "cell_type": "code",
   "execution_count": 17,
   "id": "dabb5857",
   "metadata": {},
   "outputs": [
    {
     "name": "stderr",
     "output_type": "stream",
     "text": [
      "/var/folders/hb/lzm4snhn4rgcnb6gdflrmrqr0000gn/T/ipykernel_32419/4109633885.py:3: UserWarning: Glyph 11088 (\\N{WHITE MEDIUM STAR}) missing from current font.\n",
      "  plt.tight_layout()\n",
      "/Users/khushikailasam/Library/Python/3.9/lib/python/site-packages/IPython/core/pylabtools.py:152: UserWarning: Glyph 11088 (\\N{WHITE MEDIUM STAR}) missing from current font.\n",
      "  fig.canvas.print_figure(bytes_io, **kw)\n"
     ]
    },
    {
     "data": {
      "image/png": "[encoded data removed]",
      "text/plain": [
       "<Figure size 640x480 with 1 Axes>"
      ]
     },
     "metadata": {},
     "output_type": "display_data"
    }
   ],
   "source": [
    "importances = pd.Series(model.feature_importances_, index=X.columns)\n",
    "importances.sort_values().plot(kind='barh', title='⭐ Feature Importances')\n",
    "plt.tight_layout()\n",
    "plt.show()\n"
   ]
  },
  {
   "cell_type": "code",
   "execution_count": null,
   "id": "a20a7f08",
   "metadata": {},
   "outputs": [],
   "source": []
  }
 ],
 "metadata": {
  "kernelspec": {
   "display_name": "Python 3",
   "language": "python",
   "name": "python3"
  },
  "language_info": {
   "codemirror_mode": {
    "name": "ipython",
    "version": 3
   },
   "file_extension": ".py",
   "mimetype": "text/x-python",
   "name": "python",
   "nbconvert_exporter": "python",
   "pygments_lexer": "ipython3",
   "version": "3.9.6"
  }
 },
 "nbformat": 4,
 "nbformat_minor": 5
}
